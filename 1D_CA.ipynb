{
 "cells": [
  {
   "cell_type": "code",
   "execution_count": 1,
   "metadata": {
    "collapsed": true
   },
   "outputs": [],
   "source": [
    "%matplotlib inline\n",
    "import numpy as np\n",
    "import matplotlib.pyplot as plt\n",
    "import pandas as pd\n",
    "import random"
   ]
  },
  {
   "cell_type": "code",
   "execution_count": 17,
   "metadata": {},
   "outputs": [],
   "source": [
    "rules = [1,0,1,1,0,1,1,0]\n",
    "''' how to interperet rules: 111  110  101  100  011  010  001  000'''\n",
    "\n",
    "def initalize_cells_random(cells, length):\n",
    "    for i in range(0, length):\n",
    "        cells.append(random.randint(0,1))\n",
    "    return cells\n",
    "\n",
    "def initalize_cells_single(cells, length):\n",
    "    for i in range(0, length):\n",
    "        cells.append(0)\n",
    "    cells[int(length/2)] = 1\n",
    "    return cells\n",
    "\n",
    "def update_cell_state(left, middle, right, ruleset):\n",
    "    if left == 1 and middle == 1 and right == 1:\n",
    "        new_state = rules[0]\n",
    "    if left == 1 and middle == 1 and right == 0:\n",
    "        new_state = rules[1]\n",
    "    if left == 1 and middle == 0 and right == 1:\n",
    "        new_state = rules[2]\n",
    "    if left == 1 and middle == 0 and right == 0:\n",
    "        new_state = rules[3]\n",
    "    if left == 0 and middle == 1 and right == 1:\n",
    "        new_state = rules[4]\n",
    "    if left == 0 and middle == 1 and right == 0:\n",
    "        new_state = rules[5]\n",
    "    if left == 0 and middle == 0 and right == 1:\n",
    "        new_state = rules[6]\n",
    "    if left == 0 and middle == 0 and right == 0:\n",
    "        new_state = rules[7]\n",
    "    return new_state\n",
    "\n",
    "def update_population_state(current_population_state, rules):\n",
    "    # Wraps borders\n",
    "    new_population_state = []\n",
    "    for i in range(0, len(current_population_state)):\n",
    "        cell_left_state = current_population_state[i-1]\n",
    "        cell_current_state = current_population_state[i]\n",
    "        cell_right_state = current_population_state[(i+1)%len(current_population_state)]\n",
    "        new_population_state.append(update_cell_state(cell_left_state, cell_current_state, cell_right_state, rules))      \n",
    "    return new_population_state\n",
    "\n",
    "def run_simulation(rules, length, generations):\n",
    "    current_generation_number = 0\n",
    "    population = []\n",
    "    simulation_result_history = []\n",
    "    \n",
    "    '''Choose your starting population by uncommenting'''\n",
    "    #current_generation_state = initalize_cells_random(population, length)\n",
    "    current_generation_state = initalize_cells_single(population, length)\n",
    "    #current_generation_state = [] # Enter a custom list\n",
    "    \n",
    "    for i in range(0, generations):\n",
    "        '''main loop'''\n",
    "        simulation_result_history.append(current_generation_state)\n",
    "        current_generation_state = update_population_state(current_generation_state, rules)\n",
    "    \n",
    "    return simulation_result_history"
   ]
  },
  {
   "cell_type": "code",
   "execution_count": 18,
   "metadata": {},
   "outputs": [],
   "source": [
    "length = 200\n",
    "generations = 100\n",
    "CA_simulation = run_simulation(rules, length, generations)"
   ]
  },
  {
   "cell_type": "code",
   "execution_count": 19,
   "metadata": {},
   "outputs": [
    {
     "data": {
      "image/png": "[encoded data removed]",
      "text/plain": [
       "<matplotlib.figure.Figure at 0x1ff54014898>"
      ]
     },
     "metadata": {},
     "output_type": "display_data"
    }
   ],
   "source": [
    "plt.imshow(CA_simulation)\n",
    "plt.show()"
   ]
  },
  {
   "cell_type": "code",
   "execution_count": null,
   "metadata": {
    "collapsed": true
   },
   "outputs": [],
   "source": []
  }
 ],
 "metadata": {
  "kernelspec": {
   "display_name": "Python 3",
   "language": "python",
   "name": "python3"
  },
  "language_info": {
   "codemirror_mode": {
    "name": "ipython",
    "version": 3
   },
   "file_extension": ".py",
   "mimetype": "text/x-python",
   "name": "python",
   "nbconvert_exporter": "python",
   "pygments_lexer": "ipython3",
   "version": "3.6.3"
  }
 },
 "nbformat": 4,
 "nbformat_minor": 2
}
